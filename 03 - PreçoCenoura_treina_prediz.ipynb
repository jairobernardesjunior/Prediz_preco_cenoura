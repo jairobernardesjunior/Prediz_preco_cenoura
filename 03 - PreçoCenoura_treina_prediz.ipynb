{
 "cells": [
  {
   "cell_type": "markdown",
   "metadata": {},
   "source": [
    "## Separa os dados de treino e teste, treina o modelo e faz a predição do preço da cenoura"
   ]
  },
  {
   "cell_type": "code",
   "execution_count": 149,
   "metadata": {},
   "outputs": [],
   "source": [
    "# importa bibliotecas\n",
    "import pandas as pd\n",
    "import matplotlib.pyplot as plt"
   ]
  },
  {
   "cell_type": "code",
   "execution_count": 150,
   "metadata": {},
   "outputs": [],
   "source": [
    "# carrega arquivos limpos e tratados\n",
    "iax = pd.read_csv('arquivos_tratados/iax.csv')\n",
    "vaaax = pd.read_csv('arquivos_tratados/vaaax.csv')"
   ]
  },
  {
   "cell_type": "code",
   "execution_count": 151,
   "metadata": {},
   "outputs": [
    {
     "name": "stdout",
     "output_type": "stream",
     "text": [
      "<class 'pandas.core.frame.DataFrame'>\n",
      "RangeIndex: 46 entries, 0 to 45\n",
      "Data columns (total 4 columns):\n",
      " #   Column           Non-Null Count  Dtype  \n",
      "---  ------           --------------  -----  \n",
      " 0   Preço_kg         46 non-null     float64\n",
      " 1   precipitação_mm  46 non-null     float64\n",
      " 2   temp_max         46 non-null     float64\n",
      " 3   data_med         46 non-null     object \n",
      "dtypes: float64(3), object(1)\n",
      "memory usage: 1.6+ KB\n",
      "None\n",
      "<class 'pandas.core.frame.DataFrame'>\n",
      "RangeIndex: 40 entries, 0 to 39\n",
      "Data columns (total 4 columns):\n",
      " #   Column           Non-Null Count  Dtype  \n",
      "---  ------           --------------  -----  \n",
      " 0   Preço_kg         40 non-null     float64\n",
      " 1   precipitação_mm  40 non-null     float64\n",
      " 2   temp_max         40 non-null     float64\n",
      " 3   data_med         40 non-null     object \n",
      "dtypes: float64(3), object(1)\n",
      "memory usage: 1.4+ KB\n",
      "None\n"
     ]
    }
   ],
   "source": [
    "# verifica os tipos de variáveis, não será usado a data_med\n",
    "print(iax.info())\n",
    "print(vaaax.info())"
   ]
  },
  {
   "cell_type": "code",
   "execution_count": 152,
   "metadata": {},
   "outputs": [],
   "source": [
    "# separa o modelo em treino e teste\n",
    "from sklearn.model_selection import train_test_split\n",
    "\n",
    "Xi = iax[['temp_max','precipitação_mm']]\n",
    "#Xi = iax[['temp_max']]\n",
    "yi = iax.Preço_kg\n",
    "\n",
    "Xv = iax[['temp_max','precipitação_mm']]\n",
    "#Xv = iax[['temp_max']]\n",
    "yv = iax.Preço_kg\n",
    "\n",
    "Xvv = vaaax[['temp_max','precipitação_mm']]\n",
    "#Xv = vaaax[['temp_max']]\n",
    "yvv = vaaax.Preço_kg"
   ]
  },
  {
   "cell_type": "code",
   "execution_count": 153,
   "metadata": {},
   "outputs": [
    {
     "name": "stdout",
     "output_type": "stream",
     "text": [
      "inverno A\n",
      "   temp_max  precipitação_mm\n",
      "0      28.5              0.0\n",
      "1      26.9              0.0\n",
      "2      26.9              0.0\n",
      "3      29.9              0.0\n",
      "4      27.3             10.4\n",
      "0    1.54\n",
      "1    1.54\n",
      "2    1.48\n",
      "3    1.34\n",
      "4    1.10\n",
      "Name: Preço_kg, dtype: float64\n",
      " \n",
      "verão AAA\n",
      "   temp_max  precipitação_mm\n",
      "0      29.7             69.8\n",
      "1      28.7            112.8\n",
      "2      29.8             67.0\n",
      "3      28.9             83.0\n",
      "4      29.8             32.2\n",
      "0    2.93\n",
      "1    2.93\n",
      "2    2.93\n",
      "3    2.97\n",
      "4    4.17\n",
      "Name: Preço_kg, dtype: float64\n"
     ]
    }
   ],
   "source": [
    "# visualiza x e y de inverno e verão\n",
    "print('inverno A')\n",
    "print(Xi.head(5))\n",
    "print(yi.head(5))\n",
    "\n",
    "print(' ')\n",
    "print('verão AAA')\n",
    "print(Xvv.head(5))\n",
    "print(yvv.head(5))"
   ]
  },
  {
   "cell_type": "code",
   "execution_count": 154,
   "metadata": {},
   "outputs": [],
   "source": [
    "# treina modelos de inverno e verão\n",
    "Xi_train, Xi_test, yi_train, yi_test = train_test_split(Xi, yi, test_size=0.30, random_state=42)\n",
    "Xv_train, Xv_test, yv_train, yv_test = train_test_split(Xv, yv, test_size=0.30, random_state=41)"
   ]
  },
  {
   "cell_type": "markdown",
   "metadata": {},
   "source": [
    "## Regressão Linear Simples"
   ]
  },
  {
   "cell_type": "markdown",
   "metadata": {},
   "source": [
    "- Usando dados de cenoura inverno A e cenoura verão AAA"
   ]
  },
  {
   "cell_type": "code",
   "execution_count": 155,
   "metadata": {},
   "outputs": [],
   "source": [
    "# Faz a regressão e o fit com os dados\n",
    "from sklearn.linear_model import LinearRegression\n",
    "\n",
    "regi_temp_max = LinearRegression().fit(Xi_train.temp_max.values.reshape(-1,1), yi_train)\n",
    "regi_precipitação_mm = LinearRegression().fit(Xi_train.precipitação_mm.values.reshape(-1,1), yi_train)\n",
    "\n",
    "regv_temp_max = LinearRegression().fit(Xv_train.temp_max.values.reshape(-1,1), yv_train)\n",
    "regv_precipitação_mm = LinearRegression().fit(Xv_train.precipitação_mm.values.reshape(-1,1), yv_train)"
   ]
  },
  {
   "cell_type": "code",
   "execution_count": 156,
   "metadata": {},
   "outputs": [
    {
     "name": "stdout",
     "output_type": "stream",
     "text": [
      "temp_max - inverno\n",
      "0.1352175276105021\n",
      "0.3187632861769245\n",
      " \n",
      "precipitação_mm - inverno\n",
      "0.008504211419591234\n",
      "-0.1484909523695097\n",
      " \n",
      "temp_max - verão\n",
      "0.233304618178366\n",
      "0.09561664464805508\n",
      " \n",
      "precipitação_mm - verão\n",
      "0.0018155643802927335\n",
      "-6.058782190643264e-05\n"
     ]
    }
   ],
   "source": [
    "# Verifica o coeficiente de determinação\n",
    "print('temp_max - inverno')\n",
    "print(regi_temp_max.score(Xi_train.temp_max.values.reshape(-1,1), yi_train))\n",
    "print(regi_temp_max.score(Xi_test.temp_max.values.reshape(-1,1), yi_test))\n",
    " \n",
    "print(' ')\n",
    "print('precipitação_mm - inverno')\n",
    "print(regi_precipitação_mm.score(Xi_train.precipitação_mm.values.reshape(-1,1), yi_train))\n",
    "print(regi_precipitação_mm.score(Xi_test.precipitação_mm.values.reshape(-1,1), yi_test))\n",
    " \n",
    "print(' ')\n",
    "print('temp_max - verão')\n",
    "print(regv_temp_max.score(Xv_train.temp_max.values.reshape(-1,1), yv_train))\n",
    "print(regv_temp_max.score(Xv_test.temp_max.values.reshape(-1,1), yv_test))\n",
    " \n",
    "print(' ')\n",
    "print('precipitação_mm - verão')\n",
    "print(regv_precipitação_mm.score(Xv_train.precipitação_mm.values.reshape(-1,1), yv_train))\n",
    "print(regv_precipitação_mm.score(Xv_test.precipitação_mm.values.reshape(-1,1), yv_test))\n",
    " "
   ]
  },
  {
   "cell_type": "markdown",
   "metadata": {},
   "source": [
    "- Avaliando os Modelos de inverno e verão"
   ]
  },
  {
   "cell_type": "code",
   "execution_count": 157,
   "metadata": {},
   "outputs": [],
   "source": [
    "# Fazendo o predict para temp_max e precipitação_mm\n",
    "yi_pred1 = regi_temp_max.predict(Xi_test.temp_max.values.reshape(-1,1))\n",
    "yi_pred2 = regi_precipitação_mm.predict(Xi_test.precipitação_mm.values.reshape(-1,1))\n",
    "\n",
    "yv_pred1 = regv_temp_max.predict(Xv_test.temp_max.values.reshape(-1,1))\n",
    "yv_pred2 = regv_precipitação_mm.predict(Xv_test.precipitação_mm.values.reshape(-1,1))"
   ]
  },
  {
   "cell_type": "code",
   "execution_count": 158,
   "metadata": {},
   "outputs": [
    {
     "name": "stdout",
     "output_type": "stream",
     "text": [
      "erro médio absoluto - inverno A - temperatura\n",
      "0.314461829650537\n",
      "erro quadrático médio - inverno A - temperatura\n",
      "0.13778360106823653\n",
      " \n",
      "erro médio absoluto - inverno A - precipitação\n",
      "0.390596678050603\n",
      "erro quadrático médio - inverno A - precipitação\n",
      "0.2322881547644495\n",
      " \n",
      "erro médio absoluto - verão AAA - temperatura\n",
      "0.4051648565993625\n",
      "erro quadrático médio - verão AAA - temperatura\n",
      "0.23997950760287634\n",
      " \n",
      "erro médio absoluto - verão AAA - precipitação\n",
      "0.40333242371447586\n",
      "erro quadrático médio - verão AAA - precipitação\n",
      "0.2653676076835242\n"
     ]
    }
   ],
   "source": [
    "# Avaliando o erro médio absoluto dos dados de TESTE\n",
    "# Avaliando o erro quadrático médio para os dados de TESTE\n",
    "from sklearn.metrics import mean_squared_error\n",
    "from sklearn.metrics import mean_absolute_error\n",
    "\n",
    "print('erro médio absoluto - inverno A - temperatura')\n",
    "print(mean_absolute_error(yi_test, yi_pred1))\n",
    " \n",
    "print('erro quadrático médio - inverno A - temperatura')\n",
    "print(mean_squared_error(yi_test,yi_pred1))\n",
    " \n",
    "print(' ')\n",
    "print('erro médio absoluto - inverno A - precipitação')\n",
    "print(mean_absolute_error(yi_test, yi_pred2))\n",
    "#print(' ')\n",
    "print('erro quadrático médio - inverno A - precipitação')\n",
    "print(mean_squared_error(yi_test,yi_pred2))\n",
    " \n",
    "print(' ')\n",
    "print('erro médio absoluto - verão AAA - temperatura')\n",
    "print(mean_absolute_error(yv_test, yv_pred1))\n",
    " \n",
    "print('erro quadrático médio - verão AAA - temperatura')\n",
    "print(mean_squared_error(yv_test,yv_pred1))\n",
    " \n",
    "print(' ')\n",
    "print('erro médio absoluto - verão AAA - precipitação')\n",
    "print(mean_absolute_error(yv_test, yv_pred2))\n",
    "#print(' ')\n",
    "print('erro quadrático médio - verão AAA - precipitação')\n",
    "print(mean_squared_error(yv_test,yv_pred2))\n",
    " "
   ]
  },
  {
   "cell_type": "markdown",
   "metadata": {},
   "source": [
    "## Árvore de Regressão"
   ]
  },
  {
   "cell_type": "code",
   "execution_count": 159,
   "metadata": {},
   "outputs": [],
   "source": [
    "# Importa as bibliotecas\n",
    "from sklearn import tree\n",
    "from sklearn.metrics import r2_score\n"
   ]
  },
  {
   "cell_type": "code",
   "execution_count": 160,
   "metadata": {},
   "outputs": [],
   "source": [
    "# Cria o regressor\n",
    "ri = tree.DecisionTreeRegressor(random_state=42)\n",
    "rv = tree.DecisionTreeRegressor(random_state=41)"
   ]
  },
  {
   "cell_type": "code",
   "execution_count": 161,
   "metadata": {},
   "outputs": [],
   "source": [
    "# Faz o fit\n",
    "regi_Arvore = ri.fit(Xi_train, yi_train)\n",
    "regv_Arvore = ri.fit(Xv_train, yv_train)"
   ]
  },
  {
   "cell_type": "code",
   "execution_count": 162,
   "metadata": {},
   "outputs": [
    {
     "name": "stdout",
     "output_type": "stream",
     "text": [
      "coeficiente de determinação da previsão - inverno A\n",
      "0.9531885374098179\n",
      "0.9531885374098179\n",
      "erro médio absoluto e quadrático - inverno A\n",
      "0.05714285714285715\n",
      "0.009467857142857144\n",
      " \n",
      "coeficiente de determinação da previsão - verão A\n",
      "0.0744622554985781\n",
      "0.0744622554985781\n",
      "erro médio absoluto e quadrático - verão AAA\n",
      "0.3564285714285714\n",
      "0.2455928571428571\n"
     ]
    }
   ],
   "source": [
    "# Avalia o modelo\n",
    "yi_predArvore = regi_Arvore.predict(Xi_test)\n",
    "yv_predArvore = regv_Arvore.predict(Xv_test)\n",
    "\n",
    "print('coeficiente de determinação da previsão - inverno A')\n",
    "print(regi_Arvore.score(Xi_test, yi_test))\n",
    "print(r2_score(yi_test, yi_predArvore))\n",
    "print('erro médio absoluto e quadrático - inverno A')\n",
    "print(mean_absolute_error(yi_test, yi_predArvore))\n",
    "print(mean_squared_error(yi_test,yi_predArvore)) \n",
    "\n",
    "print(' ')\n",
    "print('coeficiente de determinação da previsão - verão A')\n",
    "print(regv_Arvore.score(Xv_test, yv_test))\n",
    "print(r2_score(yv_test, yv_predArvore))\n",
    "print('erro médio absoluto e quadrático - verão AAA')\n",
    "print(mean_absolute_error(yv_test, yv_predArvore))\n",
    "print(mean_squared_error(yv_test,yv_predArvore)) "
   ]
  },
  {
   "cell_type": "markdown",
   "metadata": {},
   "source": [
    "## SVR"
   ]
  },
  {
   "cell_type": "code",
   "execution_count": 163,
   "metadata": {},
   "outputs": [],
   "source": [
    "# Importa o SVR\n",
    "from sklearn import svm"
   ]
  },
  {
   "cell_type": "code",
   "execution_count": 164,
   "metadata": {},
   "outputs": [],
   "source": [
    "# Cria o regressor\n",
    "regSVR = svm.SVR()"
   ]
  },
  {
   "cell_type": "code",
   "execution_count": 165,
   "metadata": {},
   "outputs": [],
   "source": [
    "# Faz o fit\n",
    "regi_SVR = regSVR.fit(Xi_train, yi_train)\n",
    "regv_SVR = regSVR.fit(Xv_train, yv_train)"
   ]
  },
  {
   "cell_type": "code",
   "execution_count": 166,
   "metadata": {},
   "outputs": [
    {
     "name": "stdout",
     "output_type": "stream",
     "text": [
      "coeficiente de determinação da previsão - inverno A\n",
      "0.10227537256978647\n",
      "0.10227537256978649\n",
      "erro médio absoluto e quadrático - inverno A\n",
      "0.33652938207114136\n",
      "0.18156938612545165\n",
      " \n",
      "coeficiente de determinação da previsão - verão AAA\n",
      "-0.10294187191839033\n",
      "-0.10294187191839033\n",
      "erro médio absoluto e quadrático - verão AAA\n",
      "0.42807305946138346\n",
      "0.2926673138898794\n"
     ]
    }
   ],
   "source": [
    "# Avalia o modelo\n",
    "yi_predSVR = regi_SVR.predict(Xi_test)\n",
    "yv_predSVR = regv_SVR.predict(Xv_test)\n",
    "\n",
    "print('coeficiente de determinação da previsão - inverno A')\n",
    "print(regSVR.score(Xi_test, yi_test))\n",
    "print(r2_score(yi_test, yi_predSVR, multioutput='variance_weighted'))\n",
    "print('erro médio absoluto e quadrático - inverno A')\n",
    "print(mean_absolute_error(yi_test, yi_predSVR))\n",
    "print(mean_squared_error(yi_test,yi_predSVR))\n",
    "\n",
    "print(' ')\n",
    "print('coeficiente de determinação da previsão - verão AAA')\n",
    "print(regSVR.score(Xv_test, yv_test))\n",
    "print(r2_score(yv_test, yv_predSVR, multioutput='variance_weighted'))\n",
    "print('erro médio absoluto e quadrático - verão AAA')\n",
    "print(mean_absolute_error(yv_test, yv_predSVR))\n",
    "print(mean_squared_error(yv_test,yv_predSVR))"
   ]
  },
  {
   "cell_type": "markdown",
   "metadata": {},
   "source": [
    "## Visualiza as Informações"
   ]
  },
  {
   "cell_type": "code",
   "execution_count": 167,
   "metadata": {},
   "outputs": [
    {
     "data": {
      "image/png": "[encoded data removed]",
      "text/plain": [
       "<Figure size 2000x800 with 8 Axes>"
      ]
     },
     "metadata": {},
     "output_type": "display_data"
    }
   ],
   "source": [
    "# Plota gráficos de regressão linear dos testes\n",
    "import numpy as np\n",
    "fig,ax = plt.subplots(nrows=2,ncols=4,figsize=(20,8))\n",
    "\n",
    "x = np.arange(0,6)\n",
    "y = x\n",
    "ax[0,0].scatter(yi_test,yi_pred1)\n",
    "ax[0,0].plot(x,y,'r')\n",
    "ax[0,0].set_title('inverno A - temp_max - RL')\n",
    "ax[0,1].scatter(yi_test,yv_pred1)\n",
    "ax[0,1].plot(x,y,'r')\n",
    "ax[0,1].set_title('verão AAA - temp_max - RL')\n",
    "\n",
    "ax[0,2].scatter(yi_test,yi_pred2)\n",
    "ax[0,2].plot(x,y,'r')\n",
    "ax[0,2].set_title('inverno A - precipitação - RL')\n",
    "ax[0,3].scatter(yi_test,yv_pred2)\n",
    "ax[0,3].plot(x,y,'r')\n",
    "ax[0,3].set_title('verão AAA - precipitação - RL')\n",
    "\n",
    "ax[1,0].scatter(yi_test,yi_predArvore)\n",
    "ax[1,0].plot(x,y,'r')\n",
    "ax[1,0].set_title('inverno A - TREE')\n",
    "ax[1,1].scatter(yi_test,yi_predSVR)\n",
    "ax[1,1].plot(x,y,'r')\n",
    "ax[1,1].set_title('inverno A - SVR')\n",
    "\n",
    "ax[1,2].scatter(yv_test,yv_predArvore)\n",
    "ax[1,2].plot(x,y,'r')\n",
    "ax[1,2].set_title('verão AAA - TREE')\n",
    "ax[1,3].scatter(yv_test,yv_predSVR)\n",
    "ax[1,3].plot(x,y,'r')\n",
    "ax[1,3].set_title('verão AAA - SVR')\n",
    "\n",
    "plt.show()"
   ]
  },
  {
   "cell_type": "code",
   "execution_count": 168,
   "metadata": {},
   "outputs": [
    {
     "name": "stdout",
     "output_type": "stream",
     "text": [
      "verão AAA\n",
      "    Preço_kg_Cenoura_prev\n",
      "6                    1.58\n",
      "11                   1.58\n",
      "10                   1.56\n",
      "1                    1.40\n",
      "5                    1.40\n",
      " \n",
      "inverno A\n",
      "    Preço_kg_Cenoura_prev\n",
      "12                   2.59\n",
      "4                    1.75\n",
      "0                    1.58\n",
      "8                    1.58\n",
      "3                    1.56\n"
     ]
    }
   ],
   "source": [
    "# os valores que mais se adequaram conforme os gráficos de regressão anteriores foram \n",
    "# inverno A - TREE e verão AAA - TREE, juntamente com os coeficientes de determinação e os erros médios\n",
    "# absolutos e quadráticos\n",
    "preços_verão_tree = pd.DataFrame(yv_predArvore)\n",
    "preços_verão_tree.columns = ['Preço_kg_Cenoura_prev']\n",
    "print ('verão AAA')\n",
    "print (preços_verão_tree.sort_values(by='Preço_kg_Cenoura_prev', ascending=False).head(5))\n",
    "\n",
    "print(' ')\n",
    "print ('inverno A')\n",
    "preços_inverno_tree = pd.DataFrame(yi_predArvore)\n",
    "preços_inverno_tree.columns = ['Preço_kg_Cenoura_prev']\n",
    "print(preços_inverno_tree.sort_values(by='Preço_kg_Cenoura_prev', ascending=False).head(5))"
   ]
  },
  {
   "cell_type": "markdown",
   "metadata": {},
   "source": [
    "## Faz o Deploy dos Modelos"
   ]
  },
  {
   "cell_type": "code",
   "execution_count": 169,
   "metadata": {},
   "outputs": [
    {
     "data": {
      "text/plain": [
       "['modelos/mod_verãoAAA_rtree.joblib']"
      ]
     },
     "execution_count": 169,
     "metadata": {},
     "output_type": "execute_result"
    }
   ],
   "source": [
    "# os modelos que tiveram melhor resultado foram\n",
    "from joblib import dump\n",
    "\n",
    "dump(regi_Arvore, 'modelos/mod_invernoA_rtree.joblib')\n",
    "dump(regv_Arvore, 'modelos/mod_verãoAAA_rtree.joblib')"
   ]
  }
 ],
 "metadata": {
  "kernelspec": {
   "display_name": "Python 3",
   "language": "python",
   "name": "python3"
  },
  "language_info": {
   "codemirror_mode": {
    "name": "ipython",
    "version": 3
   },
   "file_extension": ".py",
   "mimetype": "text/x-python",
   "name": "python",
   "nbconvert_exporter": "python",
   "pygments_lexer": "ipython3",
   "version": "3.11.5"
  },
  "orig_nbformat": 4
 },
 "nbformat": 4,
 "nbformat_minor": 2
}
