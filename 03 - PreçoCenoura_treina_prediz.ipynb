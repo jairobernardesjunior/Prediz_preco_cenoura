{
 "cells": [
  {
   "cell_type": "markdown",
   "metadata": {},
   "source": [
    "## Separa os dados de treino e teste, treina o modelo e faz a predição do preço da cenoura"
   ]
  },
  {
   "cell_type": "code",
   "execution_count": 90,
   "metadata": {},
   "outputs": [],
   "source": [
    "# importa bibliotecas\n",
    "import pandas as pd\n",
    "import matplotlib.pyplot as plt"
   ]
  },
  {
   "cell_type": "code",
   "execution_count": 91,
   "metadata": {},
   "outputs": [],
   "source": [
    "# carrega arquivos limpos e tratados\n",
    "iax = pd.read_csv('arquivos_tratados/iaxN.csv')\n",
    "vaaax = pd.read_csv('arquivos_tratados/vaaaxN.csv')"
   ]
  },
  {
   "cell_type": "code",
   "execution_count": 92,
   "metadata": {},
   "outputs": [
    {
     "name": "stdout",
     "output_type": "stream",
     "text": [
      "<class 'pandas.core.frame.DataFrame'>\n",
      "RangeIndex: 39 entries, 0 to 38\n",
      "Data columns (total 7 columns):\n",
      " #   Column                Non-Null Count  Dtype  \n",
      "---  ------                --------------  -----  \n",
      " 0   temp_max              39 non-null     float64\n",
      " 1   precipitação_mm       39 non-null     float64\n",
      " 2   Preço_kg_orig         39 non-null     float64\n",
      " 3   temp_max_orig         39 non-null     float64\n",
      " 4   precipitação_mm_orig  39 non-null     float64\n",
      " 5   Preço_kg              39 non-null     float64\n",
      " 6   data_med              39 non-null     object \n",
      "dtypes: float64(6), object(1)\n",
      "memory usage: 2.3+ KB\n",
      "None\n",
      "<class 'pandas.core.frame.DataFrame'>\n",
      "RangeIndex: 36 entries, 0 to 35\n",
      "Data columns (total 7 columns):\n",
      " #   Column                Non-Null Count  Dtype  \n",
      "---  ------                --------------  -----  \n",
      " 0   Preço_kg              36 non-null     float64\n",
      " 1   precipitação_mm       36 non-null     float64\n",
      " 2   temp_max              36 non-null     float64\n",
      " 3   data_med              36 non-null     object \n",
      " 4   Preço_kg_orig         36 non-null     float64\n",
      " 5   temp_max_orig         36 non-null     float64\n",
      " 6   precipitação_mm_orig  36 non-null     float64\n",
      "dtypes: float64(6), object(1)\n",
      "memory usage: 2.1+ KB\n",
      "None\n"
     ]
    }
   ],
   "source": [
    "# verifica os tipos de variáveis, não será usado a data_med\n",
    "print(iax.info())\n",
    "print(vaaax.info())"
   ]
  },
  {
   "cell_type": "code",
   "execution_count": 93,
   "metadata": {},
   "outputs": [],
   "source": [
    "# separa o modelo em treino e teste\n",
    "from sklearn.model_selection import train_test_split\n",
    "\n",
    "Xi = iax[['temp_max','precipitação_mm']]\n",
    "#Xi = iax[['temp_max']]\n",
    "yi = iax.Preço_kg\n",
    "\n",
    "Xv = iax[['temp_max','precipitação_mm']]\n",
    "#Xv = iax[['temp_max']]\n",
    "yv = iax.Preço_kg\n",
    "\n",
    "Xvv = vaaax[['temp_max','precipitação_mm']]\n",
    "#Xv = vaaax[['temp_max']]\n",
    "yvv = vaaax.Preço_kg"
   ]
  },
  {
   "cell_type": "code",
   "execution_count": 94,
   "metadata": {},
   "outputs": [
    {
     "name": "stdout",
     "output_type": "stream",
     "text": [
      "inverno A\n",
      "   temp_max  precipitação_mm\n",
      "0  0.230769         0.000000\n",
      "1  0.076923         0.000000\n",
      "2  0.076923         0.000000\n",
      "3  0.365385         0.000000\n",
      "4  0.115385         0.066752\n",
      "0    1.54\n",
      "1    1.54\n",
      "2    1.48\n",
      "3    1.34\n",
      "4    1.10\n",
      "Name: Preço_kg, dtype: float64\n",
      " \n",
      "verão AAA\n",
      "   temp_max  precipitação_mm\n",
      "0  0.649351         0.618794\n",
      "1  0.519481         1.000000\n",
      "2  0.662338         0.593972\n",
      "3  0.545455         0.735816\n",
      "4  0.662338         0.285461\n",
      "0    2.93\n",
      "1    2.93\n",
      "2    2.93\n",
      "3    2.97\n",
      "4    4.17\n",
      "Name: Preço_kg, dtype: float64\n"
     ]
    }
   ],
   "source": [
    "# visualiza x e y de inverno e verão\n",
    "print('inverno A')\n",
    "print(Xi.head(5))\n",
    "print(yi.head(5))\n",
    "\n",
    "print(' ')\n",
    "print('verão AAA')\n",
    "print(Xvv.head(5))\n",
    "print(yvv.head(5))"
   ]
  },
  {
   "cell_type": "code",
   "execution_count": 95,
   "metadata": {},
   "outputs": [],
   "source": [
    "# treina modelos de inverno e verão\n",
    "Xi_train, Xi_test, yi_train, yi_test = train_test_split(Xi, yi, test_size=0.25, train_size=0.70, random_state=42)\n",
    "Xv_train, Xv_test, yv_train, yv_test = train_test_split(Xv, yv, test_size=0.25, train_size=0.70, random_state=41)"
   ]
  },
  {
   "cell_type": "markdown",
   "metadata": {},
   "source": [
    "## Regressão Linear Múltipla"
   ]
  },
  {
   "cell_type": "markdown",
   "metadata": {},
   "source": [
    "- Usando dados de cenoura inverno A e cenoura verão AAA"
   ]
  },
  {
   "cell_type": "code",
   "execution_count": 96,
   "metadata": {},
   "outputs": [],
   "source": [
    "# treina e prediz\n",
    "from sklearn.linear_model import LinearRegression\n",
    "\n",
    "regMulti = LinearRegression().fit(Xi_train, yi_train)\n",
    "yi_pred = regMulti.predict(Xi_test)\n",
    "\n",
    "regMultv = LinearRegression().fit(Xv_train, yv_train)\n",
    "yv_pred = regMultv.predict(Xv_test)"
   ]
  },
  {
   "cell_type": "markdown",
   "metadata": {},
   "source": [
    "- Avaliando os Modelos de inverno e verão"
   ]
  },
  {
   "cell_type": "code",
   "execution_count": 97,
   "metadata": {},
   "outputs": [
    {
     "name": "stdout",
     "output_type": "stream",
     "text": [
      "inverno A\n",
      "0.29326284350136234\n",
      "-0.9400977364492047\n",
      " \n",
      "verão AAA\n",
      "0.007396757714879798\n",
      "0.2862799458637113\n"
     ]
    }
   ],
   "source": [
    "# Verifica o coeficiente de determinação\n",
    "print('inverno A')\n",
    "print(regMulti.score(Xi_train, yi_train))\n",
    "print(regMulti.score(Xi_test, yi_test))\n",
    " \n",
    "print(' ')\n",
    "print('verão AAA')\n",
    "print(regMultv.score(Xi_train, yi_train))\n",
    "print(regMultv.score(Xi_test, yi_test))"
   ]
  },
  {
   "cell_type": "code",
   "execution_count": 98,
   "metadata": {},
   "outputs": [
    {
     "name": "stdout",
     "output_type": "stream",
     "text": [
      "erro médio absoluto - inverno A\n",
      "0.38979486584015105\n",
      "erro quadrático médio - inverno A\n",
      "0.25174902237938523\n",
      " \n",
      "erro médio absoluto - verão AAA\n",
      "0.2200165137553603\n",
      "erro quadrático médio - verão AAA\n",
      "0.07354018360950447\n"
     ]
    }
   ],
   "source": [
    "# Avaliando o erro médio absoluto dos dados de TESTE\n",
    "# Avaliando o erro quadrático médio para os dados de TESTE\n",
    "from sklearn.metrics import mean_squared_error\n",
    "from sklearn.metrics import mean_absolute_error\n",
    "\n",
    "print('erro médio absoluto - inverno A')\n",
    "print(mean_absolute_error(yi_test, yi_pred))\n",
    " \n",
    "print('erro quadrático médio - inverno A')\n",
    "print(mean_squared_error(yi_test,yi_pred))\n",
    " \n",
    "print(' ')\n",
    "print('erro médio absoluto - verão AAA')\n",
    "print(mean_absolute_error(yv_test, yv_pred))\n",
    " \n",
    "print('erro quadrático médio - verão AAA')\n",
    "print(mean_squared_error(yv_test,yv_pred))"
   ]
  },
  {
   "cell_type": "markdown",
   "metadata": {},
   "source": [
    "## Árvore de Regressão"
   ]
  },
  {
   "cell_type": "code",
   "execution_count": 99,
   "metadata": {},
   "outputs": [],
   "source": [
    "# Importa as bibliotecas\n",
    "from sklearn import tree\n",
    "from sklearn.metrics import r2_score\n"
   ]
  },
  {
   "cell_type": "code",
   "execution_count": 100,
   "metadata": {},
   "outputs": [],
   "source": [
    "# Cria o regressor\n",
    "ri = tree.DecisionTreeRegressor(random_state=42)\n",
    "rv = tree.DecisionTreeRegressor(random_state=41)"
   ]
  },
  {
   "cell_type": "code",
   "execution_count": 101,
   "metadata": {},
   "outputs": [],
   "source": [
    "# Faz o fit\n",
    "regi_Arvore = ri.fit(Xi_train, yi_train)\n",
    "regv_Arvore = ri.fit(Xv_train, yv_train)"
   ]
  },
  {
   "cell_type": "code",
   "execution_count": 102,
   "metadata": {},
   "outputs": [
    {
     "name": "stdout",
     "output_type": "stream",
     "text": [
      "coeficiente de determinação da previsão - inverno A\n",
      "0.8473154491719393\n",
      "0.8473154491719393\n",
      "erro médio absoluto e quadrático - inverno A\n",
      "0.07449999999999997\n",
      "0.01981249999999998\n",
      " \n",
      "coeficiente de determinação da previsão - verão AAA\n",
      "0.37688059417253883\n",
      "0.37688059417253883\n",
      "erro médio absoluto e quadrático - verão AAA\n",
      "0.22599999999999992\n",
      "0.06543999999999997\n"
     ]
    }
   ],
   "source": [
    "# Avalia o modelo\n",
    "yi_predArvore = regi_Arvore.predict(Xi_test)\n",
    "yv_predArvore = regv_Arvore.predict(Xv_test)\n",
    "\n",
    "print('coeficiente de determinação da previsão - inverno A')\n",
    "print(regi_Arvore.score(Xi_test, yi_test))\n",
    "print(r2_score(yi_test, yi_predArvore))\n",
    "print('erro médio absoluto e quadrático - inverno A')\n",
    "print(mean_absolute_error(yi_test, yi_predArvore))\n",
    "print(mean_squared_error(yi_test,yi_predArvore)) \n",
    "\n",
    "print(' ')\n",
    "print('coeficiente de determinação da previsão - verão AAA')\n",
    "print(regv_Arvore.score(Xv_test, yv_test))\n",
    "print(r2_score(yv_test, yv_predArvore))\n",
    "print('erro médio absoluto e quadrático - verão AAA')\n",
    "print(mean_absolute_error(yv_test, yv_predArvore))\n",
    "print(mean_squared_error(yv_test,yv_predArvore)) "
   ]
  },
  {
   "cell_type": "markdown",
   "metadata": {},
   "source": [
    "## SVR"
   ]
  },
  {
   "cell_type": "code",
   "execution_count": 103,
   "metadata": {},
   "outputs": [],
   "source": [
    "# Importa o SVR\n",
    "from sklearn import svm"
   ]
  },
  {
   "cell_type": "code",
   "execution_count": 104,
   "metadata": {},
   "outputs": [],
   "source": [
    "# Cria o regressor\n",
    "regSVR = svm.SVR()"
   ]
  },
  {
   "cell_type": "code",
   "execution_count": 105,
   "metadata": {},
   "outputs": [],
   "source": [
    "# Faz o fit\n",
    "regi_SVR = regSVR.fit(Xi_train, yi_train)\n",
    "regv_SVR = regSVR.fit(Xv_train, yv_train)"
   ]
  },
  {
   "cell_type": "code",
   "execution_count": 106,
   "metadata": {},
   "outputs": [
    {
     "name": "stdout",
     "output_type": "stream",
     "text": [
      "coeficiente de determinação da previsão - inverno A\n",
      "0.7742520507273218\n",
      "0.774252050727322\n",
      "erro médio absoluto e quadrático - inverno A\n",
      "0.15243085841799658\n",
      "0.029293279645571997\n",
      " \n",
      "coeficiente de determinação da previsão - verão AAA\n",
      "0.6456418693329116\n",
      "0.6456418693329116\n",
      "erro médio absoluto e quadrático - verão AAA\n",
      "0.15288476375023485\n",
      "0.03721469088265762\n"
     ]
    }
   ],
   "source": [
    "# Avalia o modelo\n",
    "yi_predSVR = regi_SVR.predict(Xi_test)\n",
    "yv_predSVR = regv_SVR.predict(Xv_test)\n",
    "\n",
    "print('coeficiente de determinação da previsão - inverno A')\n",
    "print(regSVR.score(Xi_test, yi_test))\n",
    "print(r2_score(yi_test, yi_predSVR, multioutput='variance_weighted'))\n",
    "print('erro médio absoluto e quadrático - inverno A')\n",
    "print(mean_absolute_error(yi_test, yi_predSVR))\n",
    "print(mean_squared_error(yi_test,yi_predSVR))\n",
    "\n",
    "print(' ')\n",
    "print('coeficiente de determinação da previsão - verão AAA')\n",
    "print(regSVR.score(Xv_test, yv_test))\n",
    "print(r2_score(yv_test, yv_predSVR, multioutput='variance_weighted'))\n",
    "print('erro médio absoluto e quadrático - verão AAA')\n",
    "print(mean_absolute_error(yv_test, yv_predSVR))\n",
    "print(mean_squared_error(yv_test,yv_predSVR))"
   ]
  },
  {
   "cell_type": "markdown",
   "metadata": {},
   "source": [
    "## Visualiza as Informações"
   ]
  },
  {
   "cell_type": "code",
   "execution_count": 110,
   "metadata": {},
   "outputs": [
    {
     "data": {
      "image/png": "[encoded data removed]",
      "text/plain": [
       "<Figure size 1000x1000 with 6 Axes>"
      ]
     },
     "metadata": {},
     "output_type": "display_data"
    }
   ],
   "source": [
    "# Plota gráficos de regressão linear dos testes\n",
    "import numpy as np\n",
    "fig,ax = plt.subplots(nrows=3,ncols=2,figsize=(10,10))\n",
    "\n",
    "x = np.arange(0,6)\n",
    "y = x\n",
    "ax[0,0].scatter(yi_test,yi_pred)\n",
    "ax[0,0].plot(x,y,'r')\n",
    "ax[0,0].set_title('inverno A - RL')\n",
    "\n",
    "ax[0,1].scatter(yv_test,yv_pred)\n",
    "ax[0,1].plot(x,y,'r')\n",
    "ax[0,1].set_title('verão AAA - RL')\n",
    "\n",
    "ax[1,0].scatter(yi_test,yi_predArvore)\n",
    "ax[1,0].plot(x,y,'r')\n",
    "ax[1,0].set_title('inverno A - TREE')\n",
    "\n",
    "ax[1,1].scatter(yv_test,yv_predArvore)\n",
    "ax[1,1].plot(x,y,'r')\n",
    "ax[1,1].set_title('verão AAA - TREE')\n",
    "\n",
    "ax[2,0].scatter(yi_test,yi_predSVR)\n",
    "ax[2,0].plot(x,y,'r')\n",
    "ax[2,0].set_title('inverno A - SVR')\n",
    "\n",
    "ax[2,1].scatter(yv_test,yv_predSVR)\n",
    "ax[2,1].plot(x,y,'r')\n",
    "ax[2,1].set_title('verão AAA - SVR')\n",
    "\n",
    "plt.show()"
   ]
  },
  {
   "cell_type": "code",
   "execution_count": 108,
   "metadata": {},
   "outputs": [
    {
     "name": "stdout",
     "output_type": "stream",
     "text": [
      "verão AAA\n",
      "   Preço_kg_Cenoura_prev\n",
      "0               1.642435\n",
      "2               1.402094\n",
      "5               1.380169\n",
      "3               1.334068\n",
      "9               1.213304\n",
      " \n",
      "inverno A\n",
      "   Preço_kg_Cenoura_prev\n",
      "7                   2.00\n",
      "4                   1.75\n",
      "5                   1.50\n",
      "2                   1.40\n",
      "9                   1.40\n"
     ]
    }
   ],
   "source": [
    "# os valores que mais se adequaram conforme os gráficos de regressão anteriores foram \n",
    "# inverno A - TREE e verão AAA - SVR, juntamente com os coeficientes de determinação e os erros médios\n",
    "# absolutos e quadráticos\n",
    "preços_verão_svr = pd.DataFrame(yv_predSVR)\n",
    "preços_verão_svr.columns = ['Preço_kg_Cenoura_prev']\n",
    "print ('verão AAA')\n",
    "print (preços_verão_svr.sort_values(by='Preço_kg_Cenoura_prev', ascending=False).head(5))\n",
    "\n",
    "print(' ')\n",
    "print ('inverno A')\n",
    "preços_inverno_tree = pd.DataFrame(yi_predArvore)\n",
    "preços_inverno_tree.columns = ['Preço_kg_Cenoura_prev']\n",
    "print(preços_inverno_tree.sort_values(by='Preço_kg_Cenoura_prev', ascending=False).head(5))"
   ]
  },
  {
   "cell_type": "markdown",
   "metadata": {},
   "source": [
    "## Faz o Deploy dos Modelos"
   ]
  },
  {
   "cell_type": "code",
   "execution_count": 109,
   "metadata": {},
   "outputs": [
    {
     "data": {
      "text/plain": [
       "['modelos/mod_verãoAAA_rsvr.joblib']"
      ]
     },
     "execution_count": 109,
     "metadata": {},
     "output_type": "execute_result"
    }
   ],
   "source": [
    "# os modelos que tiveram melhor resultado foram\n",
    "from joblib import dump\n",
    "\n",
    "dump(regi_Arvore, 'modelos/mod_invernoA_rtree.joblib')\n",
    "dump(regv_SVR, 'modelos/mod_verãoAAA_rsvr.joblib')"
   ]
  }
 ],
 "metadata": {
  "kernelspec": {
   "display_name": "Python 3",
   "language": "python",
   "name": "python3"
  },
  "language_info": {
   "codemirror_mode": {
    "name": "ipython",
    "version": 3
   },
   "file_extension": ".py",
   "mimetype": "text/x-python",
   "name": "python",
   "nbconvert_exporter": "python",
   "pygments_lexer": "ipython3",
   "version": "3.11.5"
  },
  "orig_nbformat": 4
 },
 "nbformat": 4,
 "nbformat_minor": 2
}
